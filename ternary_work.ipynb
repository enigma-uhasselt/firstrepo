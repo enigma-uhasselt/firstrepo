{
 "cells": [
  {
   "cell_type": "code",
   "execution_count": 162,
   "id": "2ec0d9ae-7b97-4c80-9e30-557b77ed64a7",
   "metadata": {},
   "outputs": [],
   "source": [
    "class TNode:\n",
    "    \n",
    "    def __init__(self, char):\n",
    "        self._char = char\n",
    "        self._left, self._middle, self._right = None, None, None\n",
    "\n",
    "    def _insert(self, char):\n",
    "        if char == self._char:\n",
    "            return\n",
    "        if char < self._char:\n",
    "            if self._left is None:\n",
    "                self._left = TNode(char)\n",
    "            else:\n",
    "                self._left._insert(char)\n",
    "        elif char > self._char:\n",
    "            if self._right is None:\n",
    "                self._right = TNode(char)\n",
    "            else:\n",
    "                self._right._insert(char)\n",
    "        else:\n",
    "            if self._middle is None:\n",
    "                self._middle = TNode(char)\n",
    "            else:\n",
    "                self._middle._insert(char)\n",
    "    \n",
    "    def _search(self, char):\n",
    "        # print(self._char)\n",
    "        if char in self._char:\n",
    "            return True\n",
    "        elif char < self._char:\n",
    "            return self._left is not None and self._left._search(char)\n",
    "        elif char > self._char:\n",
    "            return self._right is not None and self._right._search(char)\n",
    "        else:\n",
    "            return self._middle is not None and self._middle._search(char)\n",
    "    \n",
    "    def _all_chars(self):\n",
    "        chars = []\n",
    "        if self._left is not None:\n",
    "            chars.extend(self._left._all_chars())\n",
    "        if self._middle is not None:\n",
    "            chars.extend(self._middle._all_chars())\n",
    "        chars.append(self._char)\n",
    "        if self._right is not None:\n",
    "            chars.extend(self._right._all_chars())\n",
    "        return chars\n",
    "\n",
    "    def __len__(self):\n",
    "        length = 1\n",
    "        if self._left is not None:\n",
    "            length += len(self._left)\n",
    "        if self._middle is not None:\n",
    "            length += len(self._middle)\n",
    "        if self._right is not None:\n",
    "            length += len(self._right)\n",
    "        return length\n",
    "\n",
    "    def _to_string(self, indent=''):\n",
    "        repr_str = indent + repr(self)\n",
    "        if self._left is not None:\n",
    "            repr_str += '\\n' + self._left._to_string(indent + '  ')\n",
    "        if self._middle is not None:\n",
    "            repr_str += '\\n' + self._middle._to_string(indent + '  ')\n",
    "        if self._right is not None:\n",
    "            repr_str += '\\n' + self._right._to_string(indent + '  ')\n",
    "        return repr_str\n",
    "\n",
    "    def __repr__(self):\n",
    "        return self._char"
   ]
  },
  {
   "cell_type": "code",
   "execution_count": 163,
   "id": "8dc33b17-dab0-4ee9-a526-ea3484d715d3",
   "metadata": {},
   "outputs": [],
   "source": [
    "class TernarySearchTree:\n",
    "    \n",
    "    def __init__(self):\n",
    "        self._root = None\n",
    "        \n",
    "    def insert(self, char):\n",
    "        if self._root is None:\n",
    "            self._root = TNode(char)\n",
    "        else:\n",
    "            self._root._insert(char)\n",
    "\n",
    "    def search(self, char):\n",
    "        if self._root is None:\n",
    "            return False\n",
    "        else:\n",
    "            return self._root._search(char)\n",
    "        \n",
    "    def all_chars(self):\n",
    "        if self._root is None:\n",
    "            return []\n",
    "        else:\n",
    "            return self._root._all_chars()\n",
    "        \n",
    "    def __len__(self):\n",
    "        if self._root is None:\n",
    "            return 0\n",
    "        else:\n",
    "            return len(self._root)\n",
    "    \n",
    "    def __repr__(self):\n",
    "        if self._root is None:\n",
    "            return 'empty tree'\n",
    "        else:\n",
    "            return self._root._to_string('')\n"
   ]
  },
  {
   "cell_type": "code",
   "execution_count": 144,
   "id": "c06c6bcc-42eb-4e5d-bafd-8e28c06d1368",
   "metadata": {},
   "outputs": [],
   "source": [
    "tst = TernarySearchTree()"
   ]
  },
  {
   "cell_type": "code",
   "execution_count": 145,
   "id": "91a768af-f2e6-48d0-bc74-29505e760cdf",
   "metadata": {},
   "outputs": [],
   "source": [
    "tst.insert('abc')"
   ]
  },
  {
   "cell_type": "code",
   "execution_count": 74,
   "id": "c6c8a5ed-b0af-428b-8d2e-d4bd54a30f6d",
   "metadata": {},
   "outputs": [],
   "source": [
    "tst.insert('a')"
   ]
  },
  {
   "cell_type": "code",
   "execution_count": 146,
   "id": "57d69b48-4249-4179-8d14-5e6d99fc1243",
   "metadata": {},
   "outputs": [
    {
     "data": {
      "text/plain": [
       "1"
      ]
     },
     "execution_count": 146,
     "metadata": {},
     "output_type": "execute_result"
    }
   ],
   "source": [
    "len(tst)"
   ]
  },
  {
   "cell_type": "code",
   "execution_count": 147,
   "id": "f53b8656-7f13-41f9-b586-50b39739ce87",
   "metadata": {},
   "outputs": [],
   "source": [
    "tst.insert('aqt')"
   ]
  },
  {
   "cell_type": "code",
   "execution_count": 148,
   "id": "734c3082-f867-49f4-9c66-77e1d6c15f8a",
   "metadata": {},
   "outputs": [
    {
     "data": {
      "text/plain": [
       "2"
      ]
     },
     "execution_count": 148,
     "metadata": {},
     "output_type": "execute_result"
    }
   ],
   "source": [
    "len(tst)"
   ]
  },
  {
   "cell_type": "code",
   "execution_count": 149,
   "id": "abc10490-946f-4cde-b53a-9e6cc78ce723",
   "metadata": {},
   "outputs": [
    {
     "data": {
      "text/plain": [
       "['abc', 'aqt']"
      ]
     },
     "execution_count": 149,
     "metadata": {},
     "output_type": "execute_result"
    }
   ],
   "source": [
    "tst.all_chars()"
   ]
  },
  {
   "cell_type": "code",
   "execution_count": 47,
   "id": "5cd7d7d3-b01c-4f24-a3b7-164a8a446663",
   "metadata": {},
   "outputs": [
    {
     "name": "stdout",
     "output_type": "stream",
     "text": [
      "abc\n",
      "  aqt\n"
     ]
    }
   ],
   "source": [
    "print(tst)"
   ]
  },
  {
   "cell_type": "code",
   "execution_count": 152,
   "id": "4fb08a08-5ba8-4e7b-9ae0-5e89f50ae64a",
   "metadata": {},
   "outputs": [
    {
     "name": "stdout",
     "output_type": "stream",
     "text": [
      "abc\n",
      "aqt\n"
     ]
    },
    {
     "data": {
      "text/plain": [
       "False"
      ]
     },
     "execution_count": 152,
     "metadata": {},
     "output_type": "execute_result"
    }
   ],
   "source": [
    "tst.search('ac')"
   ]
  },
  {
   "cell_type": "code",
   "execution_count": 153,
   "id": "7a4c35ed-9a4f-48ea-af9c-3c66742108ac",
   "metadata": {},
   "outputs": [
    {
     "name": "stdout",
     "output_type": "stream",
     "text": [
      "abc\n"
     ]
    },
    {
     "data": {
      "text/plain": [
       "True"
      ]
     },
     "execution_count": 153,
     "metadata": {},
     "output_type": "execute_result"
    }
   ],
   "source": [
    "tst.search('ab') # this suppose to return true"
   ]
  },
  {
   "cell_type": "code",
   "execution_count": 150,
   "id": "a38c2934-e674-4d95-8b0d-9c25d1d7cf4b",
   "metadata": {},
   "outputs": [],
   "source": [
    "tst.insert('')"
   ]
  },
  {
   "cell_type": "code",
   "execution_count": 151,
   "id": "6b21422e-b1ad-4ad8-b16f-f2bacd9dd4cb",
   "metadata": {},
   "outputs": [
    {
     "data": {
      "text/plain": [
       "['', 'abc', 'aqt']"
      ]
     },
     "execution_count": 151,
     "metadata": {},
     "output_type": "execute_result"
    }
   ],
   "source": [
    "tst.all_chars() # the ordering here is wrong"
   ]
  },
  {
   "cell_type": "code",
   "execution_count": 164,
   "id": "385aed3f-bc76-40c3-a185-5fc56f3fb9c9",
   "metadata": {},
   "outputs": [],
   "source": [
    "tst = TernarySearchTree()\n",
    "with open('C:/Users/harve/OneDrive/Desktop/Concept of Data Science/data/data/search_trees/insert_words.txt') as file:\n",
    "    words = [\n",
    "        line.strip() for line in file\n",
    "    ]\n",
    "for word in words:\n",
    "    tst.insert(word)\n",
    "unique_words = set(words)"
   ]
  },
  {
   "cell_type": "code",
   "execution_count": 165,
   "id": "8a922b27-8aa0-4337-a5ad-e442f1f45b40",
   "metadata": {},
   "outputs": [],
   "source": [
    "assert len(tst) == len(unique_words), \\\n",
    "       f'{len(tst)} in tree, expected {len(unique_words)}'"
   ]
  },
  {
   "cell_type": "code",
   "execution_count": 166,
   "id": "4d347ebd-7098-4546-9d23-69ba70477e50",
   "metadata": {},
   "outputs": [],
   "source": [
    "for word in unique_words:\n",
    "    assert tst.search(word), f'{word} not found'"
   ]
  },
  {
   "cell_type": "code",
   "execution_count": 167,
   "id": "0b89fa59-cfdd-4dd8-8b3a-f562c290135c",
   "metadata": {},
   "outputs": [],
   "source": [
    "for word in unique_words:\n",
    "    for i in range(len(word) - 1, 0, -1):\n",
    "        prefix = word[:i]\n",
    "        assert tst.search(prefix), f'{prefix} not found'"
   ]
  },
  {
   "cell_type": "code",
   "execution_count": 168,
   "id": "d0b2e803-df3c-44fe-b629-6363342267db",
   "metadata": {},
   "outputs": [
    {
     "ename": "TypeError",
     "evalue": "search() got an unexpected keyword argument 'exact'",
     "output_type": "error",
     "traceback": [
      "\u001b[1;31m---------------------------------------------------------------------------\u001b[0m",
      "\u001b[1;31mTypeError\u001b[0m                                 Traceback (most recent call last)",
      "\u001b[1;32m~\\AppData\\Local\\Temp\\ipykernel_18720\\2608362623.py\u001b[0m in \u001b[0;36m<module>\u001b[1;34m\u001b[0m\n\u001b[0;32m      3\u001b[0m         \u001b[0mprefix\u001b[0m \u001b[1;33m=\u001b[0m \u001b[0mword\u001b[0m\u001b[1;33m[\u001b[0m\u001b[1;33m:\u001b[0m\u001b[0mi\u001b[0m\u001b[1;33m]\u001b[0m\u001b[1;33m\u001b[0m\u001b[1;33m\u001b[0m\u001b[0m\n\u001b[0;32m      4\u001b[0m         \u001b[1;32mif\u001b[0m \u001b[0mprefix\u001b[0m \u001b[1;32mnot\u001b[0m \u001b[1;32min\u001b[0m \u001b[0munique_words\u001b[0m\u001b[1;33m:\u001b[0m\u001b[1;33m\u001b[0m\u001b[1;33m\u001b[0m\u001b[0m\n\u001b[1;32m----> 5\u001b[1;33m             \u001b[1;32massert\u001b[0m \u001b[1;32mnot\u001b[0m \u001b[0mtst\u001b[0m\u001b[1;33m.\u001b[0m\u001b[0msearch\u001b[0m\u001b[1;33m(\u001b[0m\u001b[0mprefix\u001b[0m\u001b[1;33m,\u001b[0m \u001b[0mexact\u001b[0m\u001b[1;33m=\u001b[0m\u001b[1;32mTrue\u001b[0m\u001b[1;33m)\u001b[0m\u001b[1;33m,\u001b[0m\u001b[0;31m \u001b[0m\u001b[0;31m\\\u001b[0m\u001b[1;33m\u001b[0m\u001b[1;33m\u001b[0m\u001b[0m\n\u001b[0m\u001b[0;32m      6\u001b[0m                    \u001b[1;34mf'{prefix} found'\u001b[0m\u001b[1;33m\u001b[0m\u001b[1;33m\u001b[0m\u001b[0m\n",
      "\u001b[1;31mTypeError\u001b[0m: search() got an unexpected keyword argument 'exact'"
     ]
    }
   ],
   "source": [
    "for word in unique_words:\n",
    "    for i in range(len(word), 0, -1):\n",
    "        prefix = word[:i]\n",
    "        if prefix not in unique_words:\n",
    "            assert not tst.search(prefix, exact=True), \\\n",
    "                   f'{prefix} found'"
   ]
  },
  {
   "cell_type": "code",
   "execution_count": 169,
   "id": "51ff95a3-e2c3-4ac8-8e41-327d24f55c59",
   "metadata": {},
   "outputs": [],
   "source": [
    "assert tst.search(''), 'empty string not found'"
   ]
  },
  {
   "cell_type": "code",
   "execution_count": 170,
   "id": "b80777d9-42df-497e-b53f-15e164768a6d",
   "metadata": {},
   "outputs": [
    {
     "ename": "TypeError",
     "evalue": "search() got an unexpected keyword argument 'exact'",
     "output_type": "error",
     "traceback": [
      "\u001b[1;31m---------------------------------------------------------------------------\u001b[0m",
      "\u001b[1;31mTypeError\u001b[0m                                 Traceback (most recent call last)",
      "\u001b[1;32m~\\AppData\\Local\\Temp\\ipykernel_18720\\1594381201.py\u001b[0m in \u001b[0;36m<module>\u001b[1;34m\u001b[0m\n\u001b[1;32m----> 1\u001b[1;33m \u001b[1;32massert\u001b[0m \u001b[1;32mnot\u001b[0m \u001b[0mtst\u001b[0m\u001b[1;33m.\u001b[0m\u001b[0msearch\u001b[0m\u001b[1;33m(\u001b[0m\u001b[1;34m''\u001b[0m\u001b[1;33m,\u001b[0m \u001b[0mexact\u001b[0m\u001b[1;33m=\u001b[0m\u001b[1;32mTrue\u001b[0m\u001b[1;33m)\u001b[0m\u001b[1;33m,\u001b[0m \u001b[1;34m'empty string found'\u001b[0m\u001b[1;33m\u001b[0m\u001b[1;33m\u001b[0m\u001b[0m\n\u001b[0m",
      "\u001b[1;31mTypeError\u001b[0m: search() got an unexpected keyword argument 'exact'"
     ]
    }
   ],
   "source": [
    "assert not tst.search('', exact=True), 'empty string found'"
   ]
  }
 ],
 "metadata": {
  "kernelspec": {
   "display_name": "Python 3 (ipykernel)",
   "language": "python",
   "name": "python3"
  },
  "language_info": {
   "codemirror_mode": {
    "name": "ipython",
    "version": 3
   },
   "file_extension": ".py",
   "mimetype": "text/x-python",
   "name": "python",
   "nbconvert_exporter": "python",
   "pygments_lexer": "ipython3",
   "version": "3.9.13"
  }
 },
 "nbformat": 4,
 "nbformat_minor": 5
}
